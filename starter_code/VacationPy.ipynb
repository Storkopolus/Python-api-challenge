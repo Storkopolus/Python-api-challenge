{
 "cells": [
  {
   "cell_type": "markdown",
   "metadata": {},
   "source": [
    "# VacationPy\n",
    "----\n",
    "\n",
    "#### Note\n",
    "* Keep an eye on your API usage. Use https://developers.google.com/maps/reporting/gmp-reporting as reference for how to monitor your usage and billing.\n",
    "\n",
    "* Instructions have been included for each segment. You do not have to follow them exactly, but they are included to help you think through the steps."
   ]
  },
  {
   "cell_type": "code",
   "execution_count": 6,
   "metadata": {},
   "outputs": [],
   "source": [
    "# Dependencies and Setup\n",
    "import matplotlib.pyplot as plt\n",
    "import pandas as pd\n",
    "import numpy as np\n",
    "import requests\n",
    "import gmaps\n",
    "import os\n",
    "from pprint import pprint\n",
    "\n",
    "# Import API key\n",
    "from api_keys import g_key"
   ]
  },
  {
   "cell_type": "markdown",
   "metadata": {},
   "source": [
    "### Store Part I results into DataFrame\n",
    "* Load the csv exported in Part I to a DataFrame"
   ]
  },
  {
   "cell_type": "code",
   "execution_count": 7,
   "metadata": {
    "tags": []
   },
   "outputs": [
    {
     "output_type": "stream",
     "name": "stdout",
     "text": "City  Cloudiness Country        Date  Humidity    Lat     Lng  \\\n0          Martil          40      MA  1599587792        78  35.62   -5.28   \n1        Kuril'sk          81      RU  1599587792        92  45.23  147.88   \n2           Sabha           0      LY  1599587793        14  27.04   14.43   \n3      Bredasdorp           0      ZA  1599587793        88 -34.53   20.04   \n4          Avarua         100      CK  1599587793        88 -21.21 -159.78   \n..            ...         ...     ...         ...       ...    ...     ...   \n525     Wittingen          75      DE  1599587944        88  52.73   10.74   \n526  Sharjah city           0      AE  1599587944        67  25.36   55.40   \n527    Nelson Bay          89      AU  1599587944        93 -32.72  152.15   \n528   Agía Galíni           0      GR  1599587944        52  35.10   24.68   \n529    Baruun-Urt           0      MN  1599587945        75  46.68  113.28   \n\n     Max Temp  Wind Speed  \n0       77.00       13.87  \n1       62.37        2.26  \n2       93.85       13.22  \n3       60.01        1.99  \n4       71.60        6.93  \n..        ...         ...  \n525     64.99        9.17  \n526     95.00        5.82  \n527     57.99        6.93  \n528     82.00       11.01  \n529     51.33        5.61  \n\n[530 rows x 9 columns]\n"
    },
    {
     "output_type": "execute_result",
     "data": {
      "text/plain": "             City    Lat     Lng  Humidity Country\n0          Martil  35.62   -5.28        78      MA\n1        Kuril'sk  45.23  147.88        92      RU\n2           Sabha  27.04   14.43        14      LY\n3      Bredasdorp -34.53   20.04        88      ZA\n4          Avarua -21.21 -159.78        88      CK\n..            ...    ...     ...       ...     ...\n525     Wittingen  52.73   10.74        88      DE\n526  Sharjah city  25.36   55.40        67      AE\n527    Nelson Bay -32.72  152.15        93      AU\n528   Agía Galíni  35.10   24.68        52      GR\n529    Baruun-Urt  46.68  113.28        75      MN\n\n[530 rows x 5 columns]",
      "text/html": "<div>\n<style scoped>\n    .dataframe tbody tr th:only-of-type {\n        vertical-align: middle;\n    }\n\n    .dataframe tbody tr th {\n        vertical-align: top;\n    }\n\n    .dataframe thead th {\n        text-align: right;\n    }\n</style>\n<table border=\"1\" class=\"dataframe\">\n  <thead>\n    <tr style=\"text-align: right;\">\n      <th></th>\n      <th>City</th>\n      <th>Lat</th>\n      <th>Lng</th>\n      <th>Humidity</th>\n      <th>Country</th>\n    </tr>\n  </thead>\n  <tbody>\n    <tr>\n      <th>0</th>\n      <td>Martil</td>\n      <td>35.62</td>\n      <td>-5.28</td>\n      <td>78</td>\n      <td>MA</td>\n    </tr>\n    <tr>\n      <th>1</th>\n      <td>Kuril'sk</td>\n      <td>45.23</td>\n      <td>147.88</td>\n      <td>92</td>\n      <td>RU</td>\n    </tr>\n    <tr>\n      <th>2</th>\n      <td>Sabha</td>\n      <td>27.04</td>\n      <td>14.43</td>\n      <td>14</td>\n      <td>LY</td>\n    </tr>\n    <tr>\n      <th>3</th>\n      <td>Bredasdorp</td>\n      <td>-34.53</td>\n      <td>20.04</td>\n      <td>88</td>\n      <td>ZA</td>\n    </tr>\n    <tr>\n      <th>4</th>\n      <td>Avarua</td>\n      <td>-21.21</td>\n      <td>-159.78</td>\n      <td>88</td>\n      <td>CK</td>\n    </tr>\n    <tr>\n      <th>...</th>\n      <td>...</td>\n      <td>...</td>\n      <td>...</td>\n      <td>...</td>\n      <td>...</td>\n    </tr>\n    <tr>\n      <th>525</th>\n      <td>Wittingen</td>\n      <td>52.73</td>\n      <td>10.74</td>\n      <td>88</td>\n      <td>DE</td>\n    </tr>\n    <tr>\n      <th>526</th>\n      <td>Sharjah city</td>\n      <td>25.36</td>\n      <td>55.40</td>\n      <td>67</td>\n      <td>AE</td>\n    </tr>\n    <tr>\n      <th>527</th>\n      <td>Nelson Bay</td>\n      <td>-32.72</td>\n      <td>152.15</td>\n      <td>93</td>\n      <td>AU</td>\n    </tr>\n    <tr>\n      <th>528</th>\n      <td>Agía Galíni</td>\n      <td>35.10</td>\n      <td>24.68</td>\n      <td>52</td>\n      <td>GR</td>\n    </tr>\n    <tr>\n      <th>529</th>\n      <td>Baruun-Urt</td>\n      <td>46.68</td>\n      <td>113.28</td>\n      <td>75</td>\n      <td>MN</td>\n    </tr>\n  </tbody>\n</table>\n<p>530 rows × 5 columns</p>\n</div>"
     },
     "metadata": {},
     "execution_count": 7
    }
   ],
   "source": [
    "# Load CSV from Part 1\n",
    "file_to_load = \"../output_data/cities.csv\"\n",
    "data = pd.read_csv(file_to_load,low_memory=False)\n",
    "pprint(data)\n",
    "weather_data = data[[\"City\",\"Lat\",\"Lng\",\"Humidity\",\"Country\"]]\n",
    "weather_data\n"
   ]
  },
  {
   "cell_type": "markdown",
   "metadata": {},
   "source": [
    "### Humidity Heatmap\n",
    "* Configure gmaps.\n",
    "* Use the Lat and Lng as locations and Humidity as the weight.\n",
    "* Add Heatmap layer to map."
   ]
  },
  {
   "cell_type": "code",
   "execution_count": 8,
   "metadata": {},
   "outputs": [
    {
     "output_type": "display_data",
     "data": {
      "text/plain": "Figure(layout=FigureLayout(height='420px'))",
      "application/vnd.jupyter.widget-view+json": {
       "version_major": 2,
       "version_minor": 0,
       "model_id": "ae0d0a5e704340c4bc28e963afca8370"
      }
     },
     "metadata": {}
    }
   ],
   "source": [
    "# Configure gmaps\n",
    "gmaps.configure(api_key=g_key)\n",
    "\n",
    "\n",
    "\n",
    "# Use the Lat and Lng as locations and Humidity as the weight\n",
    "humidity = weather_data[[\"Humidity\"]].astype(float)\n",
    "lat_lon = weather_data[[\"Lat\",\"Lng\"]]\n",
    "fig = gmaps.figure() \n",
    "fig.add_layer(gmaps.heatmap_layer(lat_lon, weights=(humidity[\"Humidity\"])))\n",
    "\n",
    "fig"
   ]
  },
  {
   "cell_type": "code",
   "execution_count": null,
   "metadata": {},
   "outputs": [],
   "source": []
  },
  {
   "cell_type": "markdown",
   "metadata": {},
   "source": [
    "### Create new DataFrame fitting weather criteria\n",
    "* Narrow down the cities to fit weather conditions.\n",
    "* Drop any rows will null values."
   ]
  },
  {
   "cell_type": "code",
   "execution_count": 9,
   "metadata": {},
   "outputs": [
    {
     "output_type": "execute_result",
     "data": {
      "text/plain": "                     City    Lat     Lng  Humidity  Wind Speed  Max Temp  \\\n0                  Martil  35.62   -5.28        78       13.87     77.00   \n38               Fukuechō  32.69  128.84        77        9.91     77.47   \n43           Puerto Ayora  -0.74  -90.35        60       17.22     75.20   \n54                 Atuona  -9.80 -139.03        71       24.74     78.12   \n62         Ribeira Grande  38.52  -28.70        69       10.29     77.00   \n69              Jamestown  42.10  -79.24        69        5.82     75.20   \n77              ‘Āhuimanu  21.44 -157.84        69       13.87     79.00   \n114          Ponta do Sol  32.67  -17.10        74        3.36     78.80   \n125            Balkanabat  39.51   54.37        16       13.20     76.23   \n130             Tamandaré  -8.76  -35.10        68        9.10     79.02   \n135                 Hobyo   5.35   48.53        80       25.93     76.68   \n168                Chieti  42.36   14.14        64        3.36     75.99   \n193             Caravelas -17.71  -39.25        57        8.41     77.99   \n208               La Roda  39.22   -2.15        33       10.29     75.20   \n229              Karratha -20.74  116.85        37       11.18     77.70   \n231                 Mahon  39.89    4.27        60        6.93     75.20   \n245               Kahului  20.89 -156.47        65        4.70     78.80   \n271                 Paita  -5.09  -81.11        54        6.93     78.80   \n286      Sablé-sur-Sarthe  47.84   -0.33        50        4.70     77.00   \n308               Tautira -17.73 -149.15        73        2.24     77.00   \n315               Labuhan  -6.88  112.21        80        7.29     78.64   \n342            Banda Aceh   5.56   95.32        77       10.11     79.70   \n343                 Kutum  14.20   24.67        61        1.95     79.07   \n347              Mazamari -11.33  -74.53        74        3.36     77.79   \n348           Port-Gentil  -0.72    8.78        78       16.87     78.80   \n353              Coruripe -10.13  -36.18        71       11.95     78.67   \n378                Darnah  32.77   22.64        72       17.16     78.22   \n387              Maragogi  -9.01  -35.22        72        9.37     78.12   \n398              Albacete  38.83   -2.00        33       10.29     75.20   \n400                Faanui -16.48 -151.75        77       16.82     77.72   \n401                 Manta  -0.95  -80.73        78       10.29     77.00   \n416  Vila Franca do Campo  37.72  -25.43        78       11.41     77.00   \n420               Vaitape -16.52 -151.75        75       16.78     78.58   \n438              Havelock  34.88  -76.90        78        6.93     79.00   \n443   Adolfo López Mateos  28.47 -107.30        50        8.99     77.00   \n465             Glace Bay  46.20  -59.96        78       10.29     77.00   \n480             Mahajanga -15.72   46.32        69        3.36     77.00   \n500              Paracuru  -3.41  -39.03        73       18.01     79.00   \n502            North Bend  43.41 -124.22        16       10.29     77.00   \n504            Santa Pola  38.19   -0.57        53       13.87     77.00   \n\n    Country  \n0        MA  \n38       JP  \n43       EC  \n54       PF  \n62       PT  \n69       US  \n77       US  \n114      PT  \n125      TM  \n130      BR  \n135      SO  \n168      IT  \n193      BR  \n208      ES  \n229      AU  \n231      ES  \n245      US  \n271      PE  \n286      FR  \n308      PF  \n315      ID  \n342      ID  \n343      SD  \n347      PE  \n348      GA  \n353      BR  \n378      LY  \n387      BR  \n398      ES  \n400      PF  \n401      EC  \n416      PT  \n420      PF  \n438      US  \n443      MX  \n465      CA  \n480      MG  \n500      BR  \n502      US  \n504      ES  ",
      "text/html": "<div>\n<style scoped>\n    .dataframe tbody tr th:only-of-type {\n        vertical-align: middle;\n    }\n\n    .dataframe tbody tr th {\n        vertical-align: top;\n    }\n\n    .dataframe thead th {\n        text-align: right;\n    }\n</style>\n<table border=\"1\" class=\"dataframe\">\n  <thead>\n    <tr style=\"text-align: right;\">\n      <th></th>\n      <th>City</th>\n      <th>Lat</th>\n      <th>Lng</th>\n      <th>Humidity</th>\n      <th>Wind Speed</th>\n      <th>Max Temp</th>\n      <th>Country</th>\n    </tr>\n  </thead>\n  <tbody>\n    <tr>\n      <th>0</th>\n      <td>Martil</td>\n      <td>35.62</td>\n      <td>-5.28</td>\n      <td>78</td>\n      <td>13.87</td>\n      <td>77.00</td>\n      <td>MA</td>\n    </tr>\n    <tr>\n      <th>38</th>\n      <td>Fukuechō</td>\n      <td>32.69</td>\n      <td>128.84</td>\n      <td>77</td>\n      <td>9.91</td>\n      <td>77.47</td>\n      <td>JP</td>\n    </tr>\n    <tr>\n      <th>43</th>\n      <td>Puerto Ayora</td>\n      <td>-0.74</td>\n      <td>-90.35</td>\n      <td>60</td>\n      <td>17.22</td>\n      <td>75.20</td>\n      <td>EC</td>\n    </tr>\n    <tr>\n      <th>54</th>\n      <td>Atuona</td>\n      <td>-9.80</td>\n      <td>-139.03</td>\n      <td>71</td>\n      <td>24.74</td>\n      <td>78.12</td>\n      <td>PF</td>\n    </tr>\n    <tr>\n      <th>62</th>\n      <td>Ribeira Grande</td>\n      <td>38.52</td>\n      <td>-28.70</td>\n      <td>69</td>\n      <td>10.29</td>\n      <td>77.00</td>\n      <td>PT</td>\n    </tr>\n    <tr>\n      <th>69</th>\n      <td>Jamestown</td>\n      <td>42.10</td>\n      <td>-79.24</td>\n      <td>69</td>\n      <td>5.82</td>\n      <td>75.20</td>\n      <td>US</td>\n    </tr>\n    <tr>\n      <th>77</th>\n      <td>‘Āhuimanu</td>\n      <td>21.44</td>\n      <td>-157.84</td>\n      <td>69</td>\n      <td>13.87</td>\n      <td>79.00</td>\n      <td>US</td>\n    </tr>\n    <tr>\n      <th>114</th>\n      <td>Ponta do Sol</td>\n      <td>32.67</td>\n      <td>-17.10</td>\n      <td>74</td>\n      <td>3.36</td>\n      <td>78.80</td>\n      <td>PT</td>\n    </tr>\n    <tr>\n      <th>125</th>\n      <td>Balkanabat</td>\n      <td>39.51</td>\n      <td>54.37</td>\n      <td>16</td>\n      <td>13.20</td>\n      <td>76.23</td>\n      <td>TM</td>\n    </tr>\n    <tr>\n      <th>130</th>\n      <td>Tamandaré</td>\n      <td>-8.76</td>\n      <td>-35.10</td>\n      <td>68</td>\n      <td>9.10</td>\n      <td>79.02</td>\n      <td>BR</td>\n    </tr>\n    <tr>\n      <th>135</th>\n      <td>Hobyo</td>\n      <td>5.35</td>\n      <td>48.53</td>\n      <td>80</td>\n      <td>25.93</td>\n      <td>76.68</td>\n      <td>SO</td>\n    </tr>\n    <tr>\n      <th>168</th>\n      <td>Chieti</td>\n      <td>42.36</td>\n      <td>14.14</td>\n      <td>64</td>\n      <td>3.36</td>\n      <td>75.99</td>\n      <td>IT</td>\n    </tr>\n    <tr>\n      <th>193</th>\n      <td>Caravelas</td>\n      <td>-17.71</td>\n      <td>-39.25</td>\n      <td>57</td>\n      <td>8.41</td>\n      <td>77.99</td>\n      <td>BR</td>\n    </tr>\n    <tr>\n      <th>208</th>\n      <td>La Roda</td>\n      <td>39.22</td>\n      <td>-2.15</td>\n      <td>33</td>\n      <td>10.29</td>\n      <td>75.20</td>\n      <td>ES</td>\n    </tr>\n    <tr>\n      <th>229</th>\n      <td>Karratha</td>\n      <td>-20.74</td>\n      <td>116.85</td>\n      <td>37</td>\n      <td>11.18</td>\n      <td>77.70</td>\n      <td>AU</td>\n    </tr>\n    <tr>\n      <th>231</th>\n      <td>Mahon</td>\n      <td>39.89</td>\n      <td>4.27</td>\n      <td>60</td>\n      <td>6.93</td>\n      <td>75.20</td>\n      <td>ES</td>\n    </tr>\n    <tr>\n      <th>245</th>\n      <td>Kahului</td>\n      <td>20.89</td>\n      <td>-156.47</td>\n      <td>65</td>\n      <td>4.70</td>\n      <td>78.80</td>\n      <td>US</td>\n    </tr>\n    <tr>\n      <th>271</th>\n      <td>Paita</td>\n      <td>-5.09</td>\n      <td>-81.11</td>\n      <td>54</td>\n      <td>6.93</td>\n      <td>78.80</td>\n      <td>PE</td>\n    </tr>\n    <tr>\n      <th>286</th>\n      <td>Sablé-sur-Sarthe</td>\n      <td>47.84</td>\n      <td>-0.33</td>\n      <td>50</td>\n      <td>4.70</td>\n      <td>77.00</td>\n      <td>FR</td>\n    </tr>\n    <tr>\n      <th>308</th>\n      <td>Tautira</td>\n      <td>-17.73</td>\n      <td>-149.15</td>\n      <td>73</td>\n      <td>2.24</td>\n      <td>77.00</td>\n      <td>PF</td>\n    </tr>\n    <tr>\n      <th>315</th>\n      <td>Labuhan</td>\n      <td>-6.88</td>\n      <td>112.21</td>\n      <td>80</td>\n      <td>7.29</td>\n      <td>78.64</td>\n      <td>ID</td>\n    </tr>\n    <tr>\n      <th>342</th>\n      <td>Banda Aceh</td>\n      <td>5.56</td>\n      <td>95.32</td>\n      <td>77</td>\n      <td>10.11</td>\n      <td>79.70</td>\n      <td>ID</td>\n    </tr>\n    <tr>\n      <th>343</th>\n      <td>Kutum</td>\n      <td>14.20</td>\n      <td>24.67</td>\n      <td>61</td>\n      <td>1.95</td>\n      <td>79.07</td>\n      <td>SD</td>\n    </tr>\n    <tr>\n      <th>347</th>\n      <td>Mazamari</td>\n      <td>-11.33</td>\n      <td>-74.53</td>\n      <td>74</td>\n      <td>3.36</td>\n      <td>77.79</td>\n      <td>PE</td>\n    </tr>\n    <tr>\n      <th>348</th>\n      <td>Port-Gentil</td>\n      <td>-0.72</td>\n      <td>8.78</td>\n      <td>78</td>\n      <td>16.87</td>\n      <td>78.80</td>\n      <td>GA</td>\n    </tr>\n    <tr>\n      <th>353</th>\n      <td>Coruripe</td>\n      <td>-10.13</td>\n      <td>-36.18</td>\n      <td>71</td>\n      <td>11.95</td>\n      <td>78.67</td>\n      <td>BR</td>\n    </tr>\n    <tr>\n      <th>378</th>\n      <td>Darnah</td>\n      <td>32.77</td>\n      <td>22.64</td>\n      <td>72</td>\n      <td>17.16</td>\n      <td>78.22</td>\n      <td>LY</td>\n    </tr>\n    <tr>\n      <th>387</th>\n      <td>Maragogi</td>\n      <td>-9.01</td>\n      <td>-35.22</td>\n      <td>72</td>\n      <td>9.37</td>\n      <td>78.12</td>\n      <td>BR</td>\n    </tr>\n    <tr>\n      <th>398</th>\n      <td>Albacete</td>\n      <td>38.83</td>\n      <td>-2.00</td>\n      <td>33</td>\n      <td>10.29</td>\n      <td>75.20</td>\n      <td>ES</td>\n    </tr>\n    <tr>\n      <th>400</th>\n      <td>Faanui</td>\n      <td>-16.48</td>\n      <td>-151.75</td>\n      <td>77</td>\n      <td>16.82</td>\n      <td>77.72</td>\n      <td>PF</td>\n    </tr>\n    <tr>\n      <th>401</th>\n      <td>Manta</td>\n      <td>-0.95</td>\n      <td>-80.73</td>\n      <td>78</td>\n      <td>10.29</td>\n      <td>77.00</td>\n      <td>EC</td>\n    </tr>\n    <tr>\n      <th>416</th>\n      <td>Vila Franca do Campo</td>\n      <td>37.72</td>\n      <td>-25.43</td>\n      <td>78</td>\n      <td>11.41</td>\n      <td>77.00</td>\n      <td>PT</td>\n    </tr>\n    <tr>\n      <th>420</th>\n      <td>Vaitape</td>\n      <td>-16.52</td>\n      <td>-151.75</td>\n      <td>75</td>\n      <td>16.78</td>\n      <td>78.58</td>\n      <td>PF</td>\n    </tr>\n    <tr>\n      <th>438</th>\n      <td>Havelock</td>\n      <td>34.88</td>\n      <td>-76.90</td>\n      <td>78</td>\n      <td>6.93</td>\n      <td>79.00</td>\n      <td>US</td>\n    </tr>\n    <tr>\n      <th>443</th>\n      <td>Adolfo López Mateos</td>\n      <td>28.47</td>\n      <td>-107.30</td>\n      <td>50</td>\n      <td>8.99</td>\n      <td>77.00</td>\n      <td>MX</td>\n    </tr>\n    <tr>\n      <th>465</th>\n      <td>Glace Bay</td>\n      <td>46.20</td>\n      <td>-59.96</td>\n      <td>78</td>\n      <td>10.29</td>\n      <td>77.00</td>\n      <td>CA</td>\n    </tr>\n    <tr>\n      <th>480</th>\n      <td>Mahajanga</td>\n      <td>-15.72</td>\n      <td>46.32</td>\n      <td>69</td>\n      <td>3.36</td>\n      <td>77.00</td>\n      <td>MG</td>\n    </tr>\n    <tr>\n      <th>500</th>\n      <td>Paracuru</td>\n      <td>-3.41</td>\n      <td>-39.03</td>\n      <td>73</td>\n      <td>18.01</td>\n      <td>79.00</td>\n      <td>BR</td>\n    </tr>\n    <tr>\n      <th>502</th>\n      <td>North Bend</td>\n      <td>43.41</td>\n      <td>-124.22</td>\n      <td>16</td>\n      <td>10.29</td>\n      <td>77.00</td>\n      <td>US</td>\n    </tr>\n    <tr>\n      <th>504</th>\n      <td>Santa Pola</td>\n      <td>38.19</td>\n      <td>-0.57</td>\n      <td>53</td>\n      <td>13.87</td>\n      <td>77.00</td>\n      <td>ES</td>\n    </tr>\n  </tbody>\n</table>\n</div>"
     },
     "metadata": {},
     "execution_count": 9
    }
   ],
   "source": [
    "target_cities = data[[\"City\",\"Lat\",\"Lng\",\"Humidity\",\"Wind Speed\",\"Max Temp\",\"Country\"]]\n",
    "target_cities  = target_cities .loc[(target_cities [\"Max Temp\"] <= 80) & (target_cities [\"Max Temp\"] >= 75) & (target_cities [\"Humidity\"] <= 80) & (target_cities [\"Wind Speed\"] <=30)]\n",
    "target_cities \n"
   ]
  },
  {
   "cell_type": "markdown",
   "metadata": {},
   "source": [
    "### Hotel Map\n",
    "* Store into variable named `hotel_df`.\n",
    "* Add a \"Hotel Name\" column to the DataFrame.\n",
    "* Set parameters to search for hotels with 5000 meters.\n",
    "* Hit the Google Places API for each city's coordinates.\n",
    "* Store the first Hotel result into the DataFrame.\n",
    "* Plot markers on top of the heatmap."
   ]
  },
  {
   "cell_type": "code",
   "execution_count": 10,
   "metadata": {},
   "outputs": [],
   "source": [
    "city_coord_df = target_cities[[\"Lat\",\"Lng\"]]\n",
    "hotel_df = []\n",
    "no_hotel_counter = 0\n",
    "\n",
    "for i,cities in (city_coord_df.iterrows()):\n",
    "\n",
    "    try:\n",
    "        latlngkey = str(cities[\"Lat\"]) + \",\" + str(cities[\"Lng\"])\n",
    "        gurl = f\"https://maps.googleapis.com/maps/api/place/nearbysearch/json?keyword=Hotel&radius=5000&location={latlngkey}&key={g_key}\"\n",
    "\n",
    "        response = requests.get(gurl)    \n",
    "        hotel_data = response.json()\n",
    "        hotel_df.append(hotel_data[\"results\"][0][\"name\"])\n",
    "        \n",
    "    except IndexError:\n",
    "        hotel_df.append(\"No hotel near by.\")\n",
    "        no_hotel_counter += 1"
   ]
  },
  {
   "cell_type": "code",
   "execution_count": 11,
   "metadata": {},
   "outputs": [],
   "source": [
    "#Add hotel names to new dataframe\n",
    "target_cities_hotels = target_cities.copy()\n",
    "target_cities_hotels = target_cities_hotels.reset_index()\n",
    "hotel_df = pd.DataFrame(hotel_df)\n",
    "target_cities_hotels[\"Hotel Name\"] = hotel_df.astype(str)"
   ]
  },
  {
   "cell_type": "code",
   "execution_count": 12,
   "metadata": {},
   "outputs": [],
   "source": [
    "# NOTE: Do not change any of the code in this cell\n",
    "\n",
    "# Using the template add the hotel marks to the heatmap\n",
    "info_box_template = \"\"\"\n",
    "<dl>\n",
    "<dt>Name</dt><dd>{Hotel Name}</dd>\n",
    "<dt>City</dt><dd>{City}</dd>\n",
    "<dt>Country</dt><dd>{Country}</dd>\n",
    "</dl>\n",
    "\"\"\"\n",
    "# Store the DataFrame Row\n",
    "# NOTE: be sure to update with your DataFrame name\n",
    "hotel_info = [info_box_template.format(**row) for index, row in target_cities_hotels.iterrows()]\n",
    "locations = target_cities_hotels[[\"Lat\", \"Lng\"]]"
   ]
  },
  {
   "cell_type": "code",
   "execution_count": 13,
   "metadata": {},
   "outputs": [
    {
     "output_type": "display_data",
     "data": {
      "text/plain": "Figure(layout=FigureLayout(height='420px'))",
      "application/vnd.jupyter.widget-view+json": {
       "version_major": 2,
       "version_minor": 0,
       "model_id": "5b11590c1e7645dabc922f455ab45b19"
      }
     },
     "metadata": {}
    }
   ],
   "source": [
    "\n",
    "# Add marker layer ontop of heat map\n",
    "fig = gmaps.figure()\n",
    "heatmap_layer = gmaps.heatmap_layer(locations)\n",
    "fig.add_layer(heatmap_layer)\n",
    "\n",
    "markers = gmaps.marker_layer(locations,info_box_content =hotel_info)\n",
    "fig.add_layer(markers)\n",
    "\n",
    "# Display figure\n",
    "fig"
   ]
  },
  {
   "cell_type": "code",
   "execution_count": null,
   "metadata": {},
   "outputs": [],
   "source": []
  }
 ],
 "metadata": {
  "kernelspec": {
   "display_name": "Python 3.7.6 64-bit ('base': conda)",
   "language": "python",
   "name": "python_defaultSpec_1599587083387"
  },
  "language_info": {
   "codemirror_mode": {
    "name": "ipython",
    "version": 3
   },
   "file_extension": ".py",
   "mimetype": "text/x-python",
   "name": "python",
   "nbconvert_exporter": "python",
   "pygments_lexer": "ipython3",
   "version": "3.7.6-final"
  },
  "latex_envs": {
   "LaTeX_envs_menu_present": true,
   "autoclose": false,
   "autocomplete": true,
   "bibliofile": "biblio.bib",
   "cite_by": "apalike",
   "current_citInitial": 1,
   "eqLabelWithNumbers": true,
   "eqNumInitial": 1,
   "hotkeys": {
    "equation": "Ctrl-E",
    "itemize": "Ctrl-I"
   },
   "labels_anchors": false,
   "latex_user_defs": false,
   "report_style_numbering": false,
   "user_envs_cfg": false
  }
 },
 "nbformat": 4,
 "nbformat_minor": 4
}